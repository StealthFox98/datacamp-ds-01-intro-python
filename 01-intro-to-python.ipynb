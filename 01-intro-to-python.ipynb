{
 "cells": [
  {
   "cell_type": "markdown",
   "id": "3ff3d549-d9d0-4a76-8221-b38b267bcf15",
   "metadata": {
    "jp-MarkdownHeadingCollapsed": true
   },
   "source": [
    "# Chapter 1. Introduction to Python"
   ]
  },
  {
   "cell_type": "markdown",
   "id": "887d7705-6f6e-407d-ae23-d5a344148948",
   "metadata": {},
   "source": [
    "# 1.1 Python Basics\n",
    "The classification or categorization of data items"
   ]
  },
  {
   "cell_type": "markdown",
   "id": "c0a1615f-9034-47ec-ab29-09804a78190f",
   "metadata": {},
   "source": [
    "## Variable assignment"
   ]
  },
  {
   "cell_type": "code",
   "execution_count": 1,
   "id": "8dc65dc0-4a49-497b-b638-48234d9e9f66",
   "metadata": {},
   "outputs": [
    {
     "data": {
      "text/plain": [
       "1"
      ]
     },
     "execution_count": 1,
     "metadata": {},
     "output_type": "execute_result"
    }
   ],
   "source": [
    "x = 1\n",
    "x"
   ]
  },
  {
   "cell_type": "markdown",
   "id": "06cfc19e-56e9-42b6-b6ff-cf11da5e06bd",
   "metadata": {},
   "source": [
    "## Data types"
   ]
  },
  {
   "cell_type": "markdown",
   "id": "0ca2ee21-0df6-4226-b7af-1979a941ddf8",
   "metadata": {},
   "source": [
    "### Numbers (int, float)\n",
    "- integer, a number wihtout a fractional part.\n",
    "- floating point, a number that has both an integer and a fractional part, separated by a point."
   ]
  },
  {
   "cell_type": "code",
   "execution_count": 2,
   "id": "23846a04-e7f0-4e5f-85d8-0a48082010f4",
   "metadata": {},
   "outputs": [
    {
     "name": "stdout",
     "output_type": "stream",
     "text": [
      "4\n",
      "3.141592\n"
     ]
    }
   ],
   "source": [
    "my_integer = 4\n",
    "print(my_integer)\n",
    "\n",
    "my_float = 3.141592\n",
    "print(my_float)"
   ]
  },
  {
   "cell_type": "markdown",
   "id": "0fd7153c-8c9b-4230-add4-b1b95f489a47",
   "metadata": {},
   "source": [
    "### String (str)\n",
    "- A type to represent text. Single or double quotes can be used to build a string."
   ]
  },
  {
   "cell_type": "code",
   "execution_count": 3,
   "id": "aad77a7d-6092-4fb1-a61a-9cd7e4c3637e",
   "metadata": {},
   "outputs": [
    {
     "name": "stdout",
     "output_type": "stream",
     "text": [
      "Hello, I am Daniel and work as a Data Scientist.\n"
     ]
    }
   ],
   "source": [
    "my_string = \"Hello, I am Daniel and work as a Data Scientist.\"\n",
    "print(my_string)"
   ]
  },
  {
   "cell_type": "markdown",
   "id": "9b6d0771-de47-4a0a-9b21-69ee2105ac12",
   "metadata": {},
   "source": [
    "### Boolean (bool)\n",
    "- A type to represent logical values. It can only be True or False"
   ]
  },
  {
   "cell_type": "code",
   "execution_count": 4,
   "id": "b43da7d0-868a-490b-a14e-bd9ffa491aae",
   "metadata": {},
   "outputs": [
    {
     "name": "stdout",
     "output_type": "stream",
     "text": [
      "True\n"
     ]
    }
   ],
   "source": [
    "my_boolean = True\n",
    "print(my_boolean)"
   ]
  },
  {
   "cell_type": "markdown",
   "id": "c0028474-b6a4-433a-b77e-8ab0c1d32415",
   "metadata": {},
   "source": [
    "## Finding about data types."
   ]
  },
  {
   "cell_type": "markdown",
   "id": "9e2d529f-b10a-49eb-bc93-6dfbc0d5d399",
   "metadata": {},
   "source": [
    "### type()\n",
    "- It is a function that finds out the type of a value (or a variable that refers to that value).\n",
    "\n",
    "        type(1) = int\n",
    "        type(\"Hello, world!\") = str\n",
    "        type(False) = bool\n",
    "        type([a, b, c]) = list"
   ]
  },
  {
   "cell_type": "markdown",
   "id": "fc3349dc-9040-484b-b9c9-62a93058e7ad",
   "metadata": {},
   "source": [
    "### Data type conversion functions"
   ]
  },
  {
   "cell_type": "markdown",
   "id": "d71d02cb-61a7-4766-80e1-2066fdbdba53",
   "metadata": {},
   "source": [
    "We can convert a Python value into another:\n",
    "    \n",
    "    int(x) converts a Python value into an integer.\n",
    "    float(x) converts a Python value into a floating point.\n",
    "    str(x) converts a Python value into a string.\n",
    "    bool(x) converts a Python value into a boolean\n",
    "    list(x) converts a Python value into a list"
   ]
  },
  {
   "cell_type": "markdown",
   "id": "229ee745-dba7-402b-8697-0ceca63faec8",
   "metadata": {},
   "source": [
    "# 1.2 Python Lists"
   ]
  },
  {
   "cell_type": "markdown",
   "id": "c95edc16-de20-4316-99c9-9291361e3dbb",
   "metadata": {},
   "source": [
    "**[a, b, c]**\n",
    "- It allows to store any type of information (string, numbers, booleans)\n",
    "- You can also create little sublists for each category (list of lists)\n",
    "- To access the information in the list, we use an index. The first element always starts with index 0. We can use a positive index (beggining of the list) or negative index (end of the list).\n",
    "  \n",
    "        list_1[0]\n",
    "        list_2[-4])\n",
    "\n",
    "- Slicing allows to select multiple elements from a list, creating a new list.\n",
    "\n",
    "        list_1[start:end]\n",
    "        start is inclusive, end is exclusive"
   ]
  },
  {
   "cell_type": "markdown",
   "id": "137b3ca3-add7-4f48-847a-26b75c7dc3d0",
   "metadata": {},
   "source": [
    "## Example of a list"
   ]
  },
  {
   "cell_type": "code",
   "execution_count": 5,
   "id": "7ceabb1b-a071-4f0c-8c42-30e7ea0994de",
   "metadata": {},
   "outputs": [
    {
     "data": {
      "text/plain": [
       "[34.5, 'Logan', True, 7, 'Up', False]"
      ]
     },
     "execution_count": 5,
     "metadata": {},
     "output_type": "execute_result"
    }
   ],
   "source": [
    "a = 34.5\n",
    "b = \"Logan\"\n",
    "c = True\n",
    "d = 7\n",
    "e = \"Up\"\n",
    "f = False\n",
    "list_1 = [a, b, c, d, e, f]\n",
    "list_1"
   ]
  },
  {
   "cell_type": "markdown",
   "id": "f07c19e5-9b7c-4e9a-972f-26de8148cea3",
   "metadata": {},
   "source": [
    "##  List of lists"
   ]
  },
  {
   "cell_type": "code",
   "execution_count": 6,
   "id": "f6f09478-c9ac-47df-a0e8-3fc278340666",
   "metadata": {},
   "outputs": [
    {
     "data": {
      "text/plain": [
       "[['Mexico', 12], ['USA', 3], ['Japan', 2], ['Germany', 7]]"
      ]
     },
     "execution_count": 6,
     "metadata": {},
     "output_type": "execute_result"
    }
   ],
   "source": [
    "\n",
    "list_2 = [[\"Mexico\", 12],\n",
    "         [\"USA\", 3],\n",
    "         [\"Japan\", 2],\n",
    "         [\"Germany\", 7]]\n",
    "list_2"
   ]
  },
  {
   "cell_type": "markdown",
   "id": "0b9d39e8-7857-4794-a2a6-219407c3c271",
   "metadata": {},
   "source": [
    "## Subsetting lists"
   ]
  },
  {
   "cell_type": "code",
   "execution_count": 7,
   "id": "54f6d024-cb1a-455f-a465-9a2bcf847e42",
   "metadata": {},
   "outputs": [
    {
     "name": "stdout",
     "output_type": "stream",
     "text": [
      "34.5\n",
      "['Germany', 7]\n",
      "False\n",
      "['Mexico', 12]\n"
     ]
    }
   ],
   "source": [
    "print(list_1[0])\n",
    "print(list_2[3])\n",
    "\n",
    "print(list_1[-1])\n",
    "print(list_2[-4])"
   ]
  },
  {
   "cell_type": "markdown",
   "id": "567cd563-46a9-4242-a40c-78f3c1752886",
   "metadata": {},
   "source": [
    "## List slicing"
   ]
  },
  {
   "cell_type": "code",
   "execution_count": 8,
   "id": "148e4f16-52d5-4981-947b-9f33b713433c",
   "metadata": {},
   "outputs": [
    {
     "name": "stdout",
     "output_type": "stream",
     "text": [
      "[True, 7, 'Up']\n",
      "[34.5, 'Logan', True, 7, 'Up']\n",
      "[True, 7, 'Up', False]\n"
     ]
    }
   ],
   "source": [
    "\n",
    "print(list_1[2:5])\n",
    "print(list_1[:5])\n",
    "print(list_1[2:])"
   ]
  },
  {
   "cell_type": "markdown",
   "id": "28ca6929-a8c7-4c64-bac9-d5b0eefece01",
   "metadata": {},
   "source": [
    "## Changing list elements"
   ]
  },
  {
   "cell_type": "code",
   "execution_count": 9,
   "id": "6a94e2b9-5705-47a0-9604-3bbc8f7072ff",
   "metadata": {},
   "outputs": [
    {
     "name": "stdout",
     "output_type": "stream",
     "text": [
      "[34.5, 'China', 5, 7, 'Up', False]\n"
     ]
    }
   ],
   "source": [
    "list_1[1:3] = [\"China\", 5]\n",
    "print(list_1)"
   ]
  },
  {
   "cell_type": "markdown",
   "id": "5e86fbac-eb15-4d03-89bd-63c85a352eb8",
   "metadata": {},
   "source": [
    "## Adding elements"
   ]
  },
  {
   "cell_type": "code",
   "execution_count": 10,
   "id": "221c42e1-d018-4c99-8c0f-f29ffc13d7e1",
   "metadata": {},
   "outputs": [
    {
     "name": "stdout",
     "output_type": "stream",
     "text": [
      "[34.5, 'China', 5, 7, 'Up', False, 'Logan', 7]\n"
     ]
    }
   ],
   "source": [
    "list_3 = list_1 + [\"Logan\", 7]\n",
    "print(list_3)"
   ]
  },
  {
   "cell_type": "markdown",
   "id": "4d843251-40bb-4fe4-9637-9bf80da325dc",
   "metadata": {},
   "source": [
    "## Removing elements"
   ]
  },
  {
   "cell_type": "code",
   "execution_count": 11,
   "id": "e624d487-6afd-460f-bbf0-a0fbb986cd60",
   "metadata": {},
   "outputs": [
    {
     "name": "stdout",
     "output_type": "stream",
     "text": [
      "[34.5, 'China', 7, 'Up', False, 'Logan', 7]\n"
     ]
    }
   ],
   "source": [
    "del(list_3[2])\n",
    "print(list_3)"
   ]
  },
  {
   "cell_type": "markdown",
   "id": "3464b560-eca2-4350-9338-5bffdfb91e9c",
   "metadata": {},
   "source": [
    "# 1.3 Functions and packages"
   ]
  },
  {
   "cell_type": "markdown",
   "id": "aadecfce-7f13-447c-8acc-aba188ed8215",
   "metadata": {},
   "source": [
    "## Python Functions\n",
    "A piece of reusable code that solves a particular task.\n",
    "- Pro tip: Call a function instead of writing code by yourself.\n",
    "- How to find functions: if it's a standard task, then a function actually exists! Just search it in the internet.\n",
    "\n",
    "        help(function) or ?function, either way it will open up documentation for Python's built-in functions."
   ]
  },
  {
   "cell_type": "code",
   "execution_count": 12,
   "id": "1f361ba1-a01c-40cc-ae19-6938ac2405fd",
   "metadata": {},
   "outputs": [],
   "source": [
    "# A few examples\n",
    "# type()\n",
    "# help()\n",
    "# print()\n",
    "# round()\n",
    "# pow()\n",
    "# int()\n",
    "# float()\n",
    "# str()\n",
    "# bool()\n",
    "# len()\n",
    "# max()\n",
    "# sorted()"
   ]
  },
  {
   "cell_type": "markdown",
   "id": "02c9b03d-d91e-48d7-a1de-e8ec2b99dd53",
   "metadata": {},
   "source": [
    "## Python Methods\n",
    "Functions that are associated with an object and can manipulate its data or perform actions on it"
   ]
  },
  {
   "cell_type": "markdown",
   "id": "a3f2c6ff-1269-446d-9c2c-de6d36de8fff",
   "metadata": {},
   "source": [
    "### List methods"
   ]
  },
  {
   "cell_type": "code",
   "execution_count": 13,
   "id": "4d003085-8c64-4542-879c-835fab7b404d",
   "metadata": {},
   "outputs": [],
   "source": [
    "fam = ['liz', 1.73, 'emma', 1.68, 'mom', 1.71, 'dad', 1.89]"
   ]
  },
  {
   "cell_type": "markdown",
   "id": "674f7713-e40b-49c2-a61f-ca029105ba32",
   "metadata": {},
   "source": [
    "#### index()"
   ]
  },
  {
   "cell_type": "code",
   "execution_count": 14,
   "id": "325e469b-8509-4624-8747-789eeb72c6e7",
   "metadata": {},
   "outputs": [
    {
     "data": {
      "text/plain": [
       "4"
      ]
     },
     "execution_count": 14,
     "metadata": {},
     "output_type": "execute_result"
    }
   ],
   "source": [
    "# index() indicates the assigned index of a list element\n",
    "fam.index('mom')"
   ]
  },
  {
   "cell_type": "markdown",
   "id": "54466604-6e65-4e53-b87f-b0ce9b226cd8",
   "metadata": {},
   "source": [
    "#### count()"
   ]
  },
  {
   "cell_type": "code",
   "execution_count": 15,
   "id": "dea833d5-a2b6-4eba-a175-117eb8c46f1b",
   "metadata": {},
   "outputs": [
    {
     "data": {
      "text/plain": [
       "1"
      ]
     },
     "execution_count": 15,
     "metadata": {},
     "output_type": "execute_result"
    }
   ],
   "source": [
    "# count() counts the number of times an element repeats itself\n",
    "fam.count(1.73)"
   ]
  },
  {
   "cell_type": "markdown",
   "id": "dffc237d-9233-43d8-a486-2516f5299281",
   "metadata": {},
   "source": [
    "### String methods"
   ]
  },
  {
   "cell_type": "code",
   "execution_count": 16,
   "id": "3c715f53-3155-4244-b054-223c24c912d8",
   "metadata": {},
   "outputs": [],
   "source": [
    "# sister = 'liz'\n",
    "sister = fam[0]"
   ]
  },
  {
   "cell_type": "markdown",
   "id": "0cc84397-a340-449a-8e5e-2b5e44b5f87d",
   "metadata": {},
   "source": [
    "#### capitalize()"
   ]
  },
  {
   "cell_type": "code",
   "execution_count": 17,
   "id": "e38b4344-b1aa-429a-b969-eea46c7e0a02",
   "metadata": {},
   "outputs": [
    {
     "data": {
      "text/plain": [
       "'Liz'"
      ]
     },
     "execution_count": 17,
     "metadata": {},
     "output_type": "execute_result"
    }
   ],
   "source": [
    "# capitalize() returns a string with the first letter capitalized.\n",
    "sister.capitalize()"
   ]
  },
  {
   "cell_type": "markdown",
   "id": "9364eb9c-fc03-4fe5-9143-5f5a8765ecc4",
   "metadata": {},
   "source": [
    "#### replace()"
   ]
  },
  {
   "cell_type": "code",
   "execution_count": 18,
   "id": "0457ea43-c2d4-4aa2-b66c-31771143e232",
   "metadata": {},
   "outputs": [
    {
     "data": {
      "text/plain": [
       "'lisa'"
      ]
     },
     "execution_count": 18,
     "metadata": {},
     "output_type": "execute_result"
    }
   ],
   "source": [
    "# replace() returns a string with changed elements.\n",
    "sister.replace('z','sa')"
   ]
  },
  {
   "cell_type": "markdown",
   "id": "424543a8-a709-4d7d-bd6a-8cfb140555d1",
   "metadata": {},
   "source": [
    "#### upper(), lower()"
   ]
  },
  {
   "cell_type": "code",
   "execution_count": 19,
   "id": "bf1f62d9-cefa-4a60-8303-3312cee26b0a",
   "metadata": {},
   "outputs": [
    {
     "data": {
      "text/plain": [
       "'LIZ'"
      ]
     },
     "execution_count": 19,
     "metadata": {},
     "output_type": "execute_result"
    }
   ],
   "source": [
    "# upper() and lower() return a string with all its elements uppercase and lowercase, respectively.\n",
    "sister.upper()"
   ]
  },
  {
   "cell_type": "markdown",
   "id": "26310ab6-f8c3-4ee5-8747-8305bbc7f3e1",
   "metadata": {},
   "source": [
    "#### count()"
   ]
  },
  {
   "cell_type": "code",
   "execution_count": 20,
   "id": "7f63b048-3044-474c-bb1d-239319672b91",
   "metadata": {},
   "outputs": [
    {
     "data": {
      "text/plain": [
       "1"
      ]
     },
     "execution_count": 20,
     "metadata": {},
     "output_type": "execute_result"
    }
   ],
   "source": [
    "# count() counts the number of times an element repeats itself.\n",
    "sister.count(\"i\")"
   ]
  },
  {
   "cell_type": "markdown",
   "id": "7629384c-a42d-4c40-ada9-176a87a4187d",
   "metadata": {},
   "source": [
    "### Methods available for both lists and strings"
   ]
  },
  {
   "cell_type": "markdown",
   "id": "c91a2d9d-de63-4a7d-adc9-20693a7542fe",
   "metadata": {},
   "source": [
    "#### index()"
   ]
  },
  {
   "cell_type": "code",
   "execution_count": 21,
   "id": "9022984d-71ee-48c6-b759-ec483a467aa7",
   "metadata": {},
   "outputs": [
    {
     "name": "stdout",
     "output_type": "stream",
     "text": [
      "4\n",
      "2\n"
     ]
    }
   ],
   "source": [
    "# index() returns the associated index of a list's/string's element.\n",
    "print(fam.index('mom'))\n",
    "print(sister.index('z'))"
   ]
  },
  {
   "cell_type": "markdown",
   "id": "b0517cb1-472c-495b-b109-4c6768c3173d",
   "metadata": {},
   "source": [
    "### Methods than can change the objects they are called on"
   ]
  },
  {
   "cell_type": "markdown",
   "id": "652fbfd8-ddb7-4109-9a7f-5ea7f30d1de0",
   "metadata": {},
   "source": [
    "#### append()"
   ]
  },
  {
   "cell_type": "code",
   "execution_count": 22,
   "id": "c2998495-008d-4fe6-bb02-83c22e341bd6",
   "metadata": {},
   "outputs": [
    {
     "data": {
      "text/plain": [
       "['liz', 1.73, 'emma', 1.68, 'mom', 1.71, 'dad', 1.89, 'me', '1.79']"
      ]
     },
     "execution_count": 22,
     "metadata": {},
     "output_type": "execute_result"
    }
   ],
   "source": [
    "# append() adds a new element at the end of the list.\n",
    "fam.append(\"me\")\n",
    "fam.append(\"1.79\")\n",
    "fam"
   ]
  },
  {
   "cell_type": "markdown",
   "id": "91429b1e-8aec-4112-b7c2-5a1600429ec0",
   "metadata": {},
   "source": [
    "#### remove()"
   ]
  },
  {
   "cell_type": "code",
   "execution_count": 23,
   "id": "61c763aa-8d8d-45e1-818c-21e5e0128207",
   "metadata": {},
   "outputs": [
    {
     "data": {
      "text/plain": [
       "['liz', 1.73, 'emma', 1.68, 'mom', 1.71, 'dad', 1.89, 'me']"
      ]
     },
     "execution_count": 23,
     "metadata": {},
     "output_type": "execute_result"
    }
   ],
   "source": [
    "# remove() removes the first of a list that matches input\n",
    "fam.remove(\"1.79\")\n",
    "fam"
   ]
  },
  {
   "cell_type": "markdown",
   "id": "d7b89272-1696-488d-a968-aa4a41c74c82",
   "metadata": {},
   "source": [
    "#### reverse()"
   ]
  },
  {
   "cell_type": "code",
   "execution_count": 24,
   "id": "0871a336-5de1-404f-9180-3229a1145c83",
   "metadata": {},
   "outputs": [
    {
     "data": {
      "text/plain": [
       "['me', 1.89, 'dad', 1.71, 'mom', 1.68, 'emma', 1.73, 'liz']"
      ]
     },
     "execution_count": 24,
     "metadata": {},
     "output_type": "execute_result"
    }
   ],
   "source": [
    "# reverse() reverses the order of the elements on a list\n",
    "fam.reverse()\n",
    "fam"
   ]
  },
  {
   "cell_type": "markdown",
   "id": "bda65efd-8088-42f4-b187-402ac103c7cf",
   "metadata": {},
   "source": [
    "## Python Packages\n",
    "Directories that contain Python scripts (modules).\n",
    "- Modules especify functions, methods, types\n",
    "- Some are available by default, others need to be installed in your system.\n",
    "- [pip documentation](https://pip.pypa.io/en/stable/)\n",
    "\n",
    "        Install: py -m pip install <package>\n",
    "        Upgrade: py -m pip install <package> --upgrade\n",
    "        Uninstall: py -m pip uninstall <package>\n",
    "        Purge caché (one package, all items): py -m pip cache remove <pattern>, py -m pip cache purge\n",
    "        List of installed packages: py -m pip list"
   ]
  },
  {
   "cell_type": "markdown",
   "id": "16c11bfb-85cd-46ee-8373-4e06f0f8e0d9",
   "metadata": {},
   "source": [
    "### How to import a package"
   ]
  },
  {
   "cell_type": "code",
   "execution_count": 25,
   "id": "6c1b17f3-8324-4260-a0db-bc1c5dbbc310",
   "metadata": {},
   "outputs": [
    {
     "data": {
      "text/plain": [
       "array([1, 2, 3])"
      ]
     },
     "execution_count": 25,
     "metadata": {},
     "output_type": "execute_result"
    }
   ],
   "source": [
    "# importing the package through another name and using it (most used)\n",
    "import numpy as np\n",
    "np.array([1,2,3])\n",
    "\n",
    "# importing and using the package\n",
    "# import numpy\n",
    "# numpy.array([1,2,3])\n",
    "\n",
    "# importing an especific function from a package\n",
    "# from numpy import array\n",
    "# array([1,2,3])"
   ]
  },
  {
   "cell_type": "markdown",
   "id": "116c00b3-577e-42bf-9131-9c31e9acefed",
   "metadata": {},
   "source": [
    "# 1.4 Numpy\n",
    "- Numpy arrays contain only one type. Because of this, it can speed up calculations.\n",
    "- You can create subsettings.\n",
    "- If you change the type of an element, the whole array will be coerced to that type."
   ]
  },
  {
   "cell_type": "code",
   "execution_count": 26,
   "id": "7263d9fe-e160-4a60-afcd-3a0eddd7e457",
   "metadata": {},
   "outputs": [],
   "source": [
    "height = [1.73, 1.68, 1.72, 1.89, 1.79]"
   ]
  },
  {
   "cell_type": "code",
   "execution_count": 27,
   "id": "6bd801f2-8251-47cb-8289-4873a5302bf7",
   "metadata": {},
   "outputs": [],
   "source": [
    "weight = [65.4, 59.2, 63.6, 88.4, 68.7]"
   ]
  },
  {
   "cell_type": "code",
   "execution_count": 28,
   "id": "a4ad7770-988f-4c30-b7c9-9f38009495d0",
   "metadata": {},
   "outputs": [
    {
     "data": {
      "text/plain": [
       "array([1.73, 1.68, 1.72, 1.89, 1.79])"
      ]
     },
     "execution_count": 28,
     "metadata": {},
     "output_type": "execute_result"
    }
   ],
   "source": [
    "import numpy as np\n",
    "np_height = np.array(height)\n",
    "np_height"
   ]
  },
  {
   "cell_type": "code",
   "execution_count": 29,
   "id": "d1a788ce-cd33-4adc-8562-8ca22e6c2358",
   "metadata": {},
   "outputs": [
    {
     "data": {
      "text/plain": [
       "array([65.4, 59.2, 63.6, 88.4, 68.7])"
      ]
     },
     "execution_count": 29,
     "metadata": {},
     "output_type": "execute_result"
    }
   ],
   "source": [
    "np_weight = np.array(weight)\n",
    "np_weight"
   ]
  },
  {
   "cell_type": "code",
   "execution_count": 30,
   "id": "cd9a002b-6ed9-467b-9cc6-244c5f27e824",
   "metadata": {},
   "outputs": [
    {
     "data": {
      "text/plain": [
       "array([21.85171573, 20.97505669, 21.49810708, 24.7473475 , 21.44127836])"
      ]
     },
     "execution_count": 30,
     "metadata": {},
     "output_type": "execute_result"
    }
   ],
   "source": [
    "bmi = np_weight / (np_height**2)\n",
    "bmi"
   ]
  },
  {
   "cell_type": "code",
   "execution_count": 31,
   "id": "6ffacf3e-0181-4d3b-b87d-df2a57fdf3ff",
   "metadata": {},
   "outputs": [],
   "source": [
    "python_list = [1,2,3]\n",
    "python_array = np.array(python_list)"
   ]
  },
  {
   "cell_type": "code",
   "execution_count": 32,
   "id": "1f6cb462-c773-4a96-a428-fabfa9417f41",
   "metadata": {},
   "outputs": [
    {
     "data": {
      "text/plain": [
       "[1, 2, 3, 1, 2, 3]"
      ]
     },
     "execution_count": 32,
     "metadata": {},
     "output_type": "execute_result"
    }
   ],
   "source": [
    "python_list + python_list"
   ]
  },
  {
   "cell_type": "code",
   "execution_count": 33,
   "id": "99749921-974f-416f-8de8-4b0acc6f321d",
   "metadata": {},
   "outputs": [
    {
     "data": {
      "text/plain": [
       "array([2, 4, 6])"
      ]
     },
     "execution_count": 33,
     "metadata": {},
     "output_type": "execute_result"
    }
   ],
   "source": [
    "python_array + python_array"
   ]
  },
  {
   "cell_type": "code",
   "execution_count": 34,
   "id": "7f2a9b28-35f7-4b4d-aa74-3984b54cbea2",
   "metadata": {},
   "outputs": [
    {
     "data": {
      "text/plain": [
       "array([21.85171573, 20.97505669, 21.49810708, 24.7473475 , 21.44127836])"
      ]
     },
     "execution_count": 34,
     "metadata": {},
     "output_type": "execute_result"
    }
   ],
   "source": [
    "bmi"
   ]
  },
  {
   "cell_type": "markdown",
   "id": "231eeb18-13a0-4248-a51a-de57be6de230",
   "metadata": {},
   "source": [
    "## Numpy subsetting"
   ]
  },
  {
   "cell_type": "code",
   "execution_count": 35,
   "id": "1aa3eb35-c927-442a-8319-7aca305822c4",
   "metadata": {},
   "outputs": [
    {
     "data": {
      "text/plain": [
       "20.97505668934241"
      ]
     },
     "execution_count": 35,
     "metadata": {},
     "output_type": "execute_result"
    }
   ],
   "source": [
    "bmi[1]"
   ]
  },
  {
   "cell_type": "code",
   "execution_count": 36,
   "id": "56bc19b0-6399-4d6b-9bc0-39257b1674d5",
   "metadata": {},
   "outputs": [
    {
     "data": {
      "text/plain": [
       "array([False, False, False,  True, False])"
      ]
     },
     "execution_count": 36,
     "metadata": {},
     "output_type": "execute_result"
    }
   ],
   "source": [
    "bmi > 23"
   ]
  },
  {
   "cell_type": "code",
   "execution_count": 37,
   "id": "18a5cb83-f2a4-4ef3-a855-04d7d26ed946",
   "metadata": {},
   "outputs": [
    {
     "data": {
      "text/plain": [
       "array([24.7473475])"
      ]
     },
     "execution_count": 37,
     "metadata": {},
     "output_type": "execute_result"
    }
   ],
   "source": [
    "bmi_values = bmi[bmi > 23]\n",
    "bmi_values"
   ]
  },
  {
   "cell_type": "markdown",
   "id": "6c14bc7b-2594-45d1-8f74-e7bb56ecad9b",
   "metadata": {},
   "source": [
    "## 2D Numpy Arrays"
   ]
  },
  {
   "cell_type": "markdown",
   "id": "0305dee1-4412-4f39-b7d4-b9c342cacc4e",
   "metadata": {},
   "source": [
    "    np.array.shape\n",
    "    np.array.[n]\n",
    "    np.array.[n][m], or np.array[n,m] (an element from array)\n",
    "    np.array[:,m1:m3] (several elements from array)"
   ]
  },
  {
   "cell_type": "code",
   "execution_count": 38,
   "id": "a7ad07cb-d7f8-42fd-90e5-9cec98cd9f07",
   "metadata": {},
   "outputs": [
    {
     "data": {
      "text/plain": [
       "array([[ 1.73,  1.68,  1.71,  1.89,  1.79],\n",
       "       [65.4 , 59.2 , 63.6 , 88.4 , 68.7 ]])"
      ]
     },
     "execution_count": 38,
     "metadata": {},
     "output_type": "execute_result"
    }
   ],
   "source": [
    "np_2d = np.array([[1.73, 1.68, 1.71, 1.89, 1.79],\n",
    "                  [65.4, 59.2, 63.6, 88.4, 68.7]])\n",
    "np_2d"
   ]
  },
  {
   "cell_type": "code",
   "execution_count": 39,
   "id": "3eb92cdc-a65b-4a1b-96b5-b64c7b7e2bca",
   "metadata": {},
   "outputs": [
    {
     "data": {
      "text/plain": [
       "(2, 5)"
      ]
     },
     "execution_count": 39,
     "metadata": {},
     "output_type": "execute_result"
    }
   ],
   "source": [
    "np_2d.shape # 2 rows, 5 columns"
   ]
  },
  {
   "cell_type": "markdown",
   "id": "1007fc6c-9cc8-4bca-88b6-184b1da2edd0",
   "metadata": {},
   "source": [
    "### Subsetting"
   ]
  },
  {
   "cell_type": "code",
   "execution_count": 40,
   "id": "402bda92-d81a-4bbf-aeaf-42b553c79672",
   "metadata": {},
   "outputs": [
    {
     "data": {
      "text/plain": [
       "array([1.73, 1.68, 1.71, 1.89, 1.79])"
      ]
     },
     "execution_count": 40,
     "metadata": {},
     "output_type": "execute_result"
    }
   ],
   "source": [
    "np_2d[0]"
   ]
  },
  {
   "cell_type": "code",
   "execution_count": 41,
   "id": "47577d7b-218c-4619-af98-7a4efd4b6c3c",
   "metadata": {},
   "outputs": [
    {
     "data": {
      "text/plain": [
       "1.71"
      ]
     },
     "execution_count": 41,
     "metadata": {},
     "output_type": "execute_result"
    }
   ],
   "source": [
    "np_2d[0][2]"
   ]
  },
  {
   "cell_type": "code",
   "execution_count": 42,
   "id": "539b33cc-98c6-4697-a264-c78e2ae766e7",
   "metadata": {},
   "outputs": [
    {
     "data": {
      "text/plain": [
       "1.71"
      ]
     },
     "execution_count": 42,
     "metadata": {},
     "output_type": "execute_result"
    }
   ],
   "source": [
    "np_2d[0,2]"
   ]
  },
  {
   "cell_type": "code",
   "execution_count": 43,
   "id": "4860178e-4092-439e-bf12-8843218cbe16",
   "metadata": {},
   "outputs": [
    {
     "data": {
      "text/plain": [
       "array([['1.73', '1.68', '1.71', '1.89', '1.79'],\n",
       "       ['65.4', '59.2', '63.6', '88.4', '68.7']], dtype='<U32')"
      ]
     },
     "execution_count": 43,
     "metadata": {},
     "output_type": "execute_result"
    }
   ],
   "source": [
    "np.array([[1.73, 1.68, 1.71, 1.89, 1.79],\n",
    "                  [65.4, 59.2, 63.6, 88.4, \"68.7\"]])"
   ]
  },
  {
   "cell_type": "code",
   "execution_count": 44,
   "id": "491076dd-4c5f-4196-9634-50f10fd7a74a",
   "metadata": {},
   "outputs": [
    {
     "data": {
      "text/plain": [
       "array([[ 1.68,  1.71],\n",
       "       [59.2 , 63.6 ]])"
      ]
     },
     "execution_count": 44,
     "metadata": {},
     "output_type": "execute_result"
    }
   ],
   "source": [
    "np_2d[:,1:3]"
   ]
  },
  {
   "cell_type": "markdown",
   "id": "a738badf-909b-4cfc-8fe5-848068a6838b",
   "metadata": {},
   "source": [
    "## Numpy Basic Statistics"
   ]
  },
  {
   "cell_type": "markdown",
   "id": "0507aba9-ced8-4512-83ee-b90e32a747bb",
   "metadata": {},
   "source": [
    "    np.mean()\n",
    "    np.median()\n",
    "    np.corrcoef()\n",
    "    np.std()\n",
    "    np.sum()\n",
    "    np.sort()"
   ]
  },
  {
   "cell_type": "markdown",
   "id": "1ed11f58-e597-4073-8ebf-97073e48d3e7",
   "metadata": {},
   "source": [
    "### Generate data with Numpy"
   ]
  },
  {
   "cell_type": "markdown",
   "id": "5a8f584d-0898-42cf-9846-66ed910753cd",
   "metadata": {},
   "source": [
    "    np.random.normal()\n",
    "        arguments: distribution mean, distribution standard deviation, number of samples\n",
    "\n",
    "    np.column_stack(array1, array2, ..., n)\n",
    "        pastes arrays together as n columns."
   ]
  },
  {
   "cell_type": "code",
   "execution_count": 45,
   "id": "993abc78-eb54-40a1-a13a-3a08d6f9a15f",
   "metadata": {},
   "outputs": [],
   "source": [
    "height = np.round(np.random.normal(1.75,0.20,5000),2)\n",
    "weight = np.round(np.random.normal(60.32,15,5000),2)\n",
    "np_city = np.column_stack((height,weight))"
   ]
  },
  {
   "cell_type": "code",
   "execution_count": 46,
   "id": "23398d39-8faf-4e74-add6-cfe882577b23",
   "metadata": {},
   "outputs": [
    {
     "data": {
      "text/plain": [
       "array([[ 1.57, 63.33],\n",
       "       [ 1.8 , 52.63],\n",
       "       [ 1.51, 55.82],\n",
       "       ...,\n",
       "       [ 1.66, 71.31],\n",
       "       [ 1.45, 76.75],\n",
       "       [ 1.64, 56.85]])"
      ]
     },
     "execution_count": 46,
     "metadata": {},
     "output_type": "execute_result"
    }
   ],
   "source": [
    "np_city"
   ]
  }
 ],
 "metadata": {
  "kernelspec": {
   "display_name": "Python 3 (ipykernel)",
   "language": "python",
   "name": "python3"
  },
  "language_info": {
   "codemirror_mode": {
    "name": "ipython",
    "version": 3
   },
   "file_extension": ".py",
   "mimetype": "text/x-python",
   "name": "python",
   "nbconvert_exporter": "python",
   "pygments_lexer": "ipython3",
   "version": "3.12.3"
  }
 },
 "nbformat": 4,
 "nbformat_minor": 5
}
